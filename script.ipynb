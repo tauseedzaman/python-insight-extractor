{
 "cells": [
  {
   "cell_type": "code",
   "execution_count": 1,
   "id": "b4f2aa7b-0e96-4f4a-a610-14d44ddba6c6",
   "metadata": {},
   "outputs": [],
   "source": [
    "import spacy"
   ]
  },
  {
   "cell_type": "code",
   "execution_count": 2,
   "id": "6eaa72ed-8505-427f-ab80-d3e6f00a10a9",
   "metadata": {},
   "outputs": [],
   "source": [
    "nlp = spacy.load(\"en_core_web_md\")"
   ]
  },
  {
   "cell_type": "code",
   "execution_count": 3,
   "id": "adc4871e-e784-4053-a865-48e1c910c80b",
   "metadata": {},
   "outputs": [],
   "source": [
    "with open(\"./permanent_record.txt\", \"r\", encoding=\"utf-8\") as f:\n",
    "    text = f.read()"
   ]
  },
  {
   "cell_type": "code",
   "execution_count": 4,
   "id": "fa2f65a8-e880-4ae5-9799-c1aab84f9ec3",
   "metadata": {},
   "outputs": [
    {
     "data": {
      "text/plain": [
       "616930"
      ]
     },
     "execution_count": 4,
     "metadata": {},
     "output_type": "execute_result"
    }
   ],
   "source": [
    "len(text)"
   ]
  },
  {
   "cell_type": "code",
   "execution_count": 5,
   "id": "20a33543-2009-444a-bcd3-fa3f8180c48e",
   "metadata": {},
   "outputs": [],
   "source": [
    "doc = nlp(text)"
   ]
  },
  {
   "cell_type": "code",
   "execution_count": 6,
   "id": "a7c3ea52-6b3f-414c-826e-233cb72a119d",
   "metadata": {},
   "outputs": [],
   "source": [
    "entities = {}\n",
    "for ent in doc.ents:\n",
    "    if ent.label_ not in entities:\n",
    "        entities[ent.label_] = []\n",
    "    entities[ent.label_].append(ent.text)"
   ]
  },
  {
   "cell_type": "code",
   "execution_count": 8,
   "id": "6789cbce-1e7b-42bc-8050-3595af8cb0f6",
   "metadata": {},
   "outputs": [],
   "source": [
    "for label, ent_list in entities.items():\n",
    "    with open(f\"output/{label}.txt\", 'w', encoding=\"utf-8\") as f:\n",
    "        for ent in set(ent_list):\n",
    "            f.write(ent + \"\\n\")"
   ]
  }
 ],
 "metadata": {
  "kernelspec": {
   "display_name": "Python 3 (ipykernel)",
   "language": "python",
   "name": "python3"
  },
  "language_info": {
   "codemirror_mode": {
    "name": "ipython",
    "version": 3
   },
   "file_extension": ".py",
   "mimetype": "text/x-python",
   "name": "python",
   "nbconvert_exporter": "python",
   "pygments_lexer": "ipython3",
   "version": "3.12.2"
  }
 },
 "nbformat": 4,
 "nbformat_minor": 5
}
